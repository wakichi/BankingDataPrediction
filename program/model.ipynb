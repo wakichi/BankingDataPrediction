{
 "cells": [
  {
   "cell_type": "code",
   "execution_count": 6,
   "id": "impossible-attraction",
   "metadata": {},
   "outputs": [],
   "source": [
    "import os\n",
    "from glob import glob\n",
    "import numpy as np\n",
    "import pandas as pd\n",
    "import matplotlib.pyplot as plt\n",
    "import seaborn as sns\n",
    "import datetime\n",
    "import sys \n",
    "sys.path.append(\"..\")\n",
    "from utils import *"
   ]
  },
  {
   "cell_type": "code",
   "execution_count": 7,
   "id": "muslim-malta",
   "metadata": {},
   "outputs": [],
   "source": [
    "INPUT = \"../input\"\n",
    "TRAIN = os.path.join(INPUT, 'train_data.csv')\n",
    "TEST = os.path.join(INPUT, 'test_data.csv')\n",
    "FEATURE = os.path.join(INPUT, \"feature\")\n",
    "ALL = os.path.join(INPUT, 'all.csv')\n",
    "SUBMIT = \"../submit\"\n",
    "target = [\"y\"]"
   ]
  },
  {
   "cell_type": "code",
   "execution_count": 8,
   "id": "processed-branch",
   "metadata": {},
   "outputs": [
    {
     "name": "stdout",
     "output_type": "stream",
     "text": [
      "../feature/08161926.csv was read\n"
     ]
    }
   ],
   "source": [
    "df_train = read_csv(TRAIN)\n",
    "df_test = read_csv(TEST)\n",
    "# 初回のみ\n",
    "#all_df = train_test_merge(train_df, test_df)\n",
    "#二回目以降\n",
    "df = read_new_csv()\n",
    "df_train, df_test = df_split(df)\n",
    "#date_df = read_csv(date)"
   ]
  },
  {
   "cell_type": "code",
   "execution_count": 4,
   "id": "corporate-engagement",
   "metadata": {},
   "outputs": [
    {
     "data": {
      "text/html": [
       "<div>\n",
       "<style scoped>\n",
       "    .dataframe tbody tr th:only-of-type {\n",
       "        vertical-align: middle;\n",
       "    }\n",
       "\n",
       "    .dataframe tbody tr th {\n",
       "        vertical-align: top;\n",
       "    }\n",
       "\n",
       "    .dataframe thead th {\n",
       "        text-align: right;\n",
       "    }\n",
       "</style>\n",
       "<table border=\"1\" class=\"dataframe\">\n",
       "  <thead>\n",
       "    <tr style=\"text-align: right;\">\n",
       "      <th></th>\n",
       "      <th>age</th>\n",
       "      <th>job</th>\n",
       "      <th>marital</th>\n",
       "      <th>education</th>\n",
       "      <th>default</th>\n",
       "      <th>balance</th>\n",
       "      <th>housing</th>\n",
       "      <th>loan</th>\n",
       "      <th>contact</th>\n",
       "      <th>day</th>\n",
       "      <th>...</th>\n",
       "      <th>duration_log</th>\n",
       "      <th>duration_sqrt</th>\n",
       "      <th>balance_log</th>\n",
       "      <th>balance_sqrt</th>\n",
       "      <th>balance_log_cut</th>\n",
       "      <th>age_bin</th>\n",
       "      <th>campaign_log</th>\n",
       "      <th>all_campaign</th>\n",
       "      <th>campaign_bin</th>\n",
       "      <th>previous_bin</th>\n",
       "    </tr>\n",
       "  </thead>\n",
       "  <tbody>\n",
       "    <tr>\n",
       "      <th>0</th>\n",
       "      <td>58</td>\n",
       "      <td>1</td>\n",
       "      <td>1</td>\n",
       "      <td>1</td>\n",
       "      <td>0</td>\n",
       "      <td>10163</td>\n",
       "      <td>1</td>\n",
       "      <td>0</td>\n",
       "      <td>1</td>\n",
       "      <td>5</td>\n",
       "      <td>...</td>\n",
       "      <td>5.568345</td>\n",
       "      <td>16.186414</td>\n",
       "      <td>9.226509</td>\n",
       "      <td>100.811706</td>\n",
       "      <td>0.226509</td>\n",
       "      <td>3</td>\n",
       "      <td>0.0</td>\n",
       "      <td>1</td>\n",
       "      <td>1</td>\n",
       "      <td>0</td>\n",
       "    </tr>\n",
       "    <tr>\n",
       "      <th>1</th>\n",
       "      <td>44</td>\n",
       "      <td>2</td>\n",
       "      <td>2</td>\n",
       "      <td>2</td>\n",
       "      <td>0</td>\n",
       "      <td>8049</td>\n",
       "      <td>1</td>\n",
       "      <td>0</td>\n",
       "      <td>1</td>\n",
       "      <td>5</td>\n",
       "      <td>...</td>\n",
       "      <td>5.023881</td>\n",
       "      <td>12.328828</td>\n",
       "      <td>8.993303</td>\n",
       "      <td>89.716219</td>\n",
       "      <td>-0.006697</td>\n",
       "      <td>3</td>\n",
       "      <td>0.0</td>\n",
       "      <td>1</td>\n",
       "      <td>1</td>\n",
       "      <td>0</td>\n",
       "    </tr>\n",
       "    <tr>\n",
       "      <th>2</th>\n",
       "      <td>33</td>\n",
       "      <td>3</td>\n",
       "      <td>1</td>\n",
       "      <td>2</td>\n",
       "      <td>0</td>\n",
       "      <td>8022</td>\n",
       "      <td>1</td>\n",
       "      <td>1</td>\n",
       "      <td>1</td>\n",
       "      <td>5</td>\n",
       "      <td>...</td>\n",
       "      <td>4.343805</td>\n",
       "      <td>8.774964</td>\n",
       "      <td>8.989943</td>\n",
       "      <td>89.565618</td>\n",
       "      <td>-0.010057</td>\n",
       "      <td>3</td>\n",
       "      <td>0.0</td>\n",
       "      <td>1</td>\n",
       "      <td>1</td>\n",
       "      <td>0</td>\n",
       "    </tr>\n",
       "    <tr>\n",
       "      <th>3</th>\n",
       "      <td>33</td>\n",
       "      <td>4</td>\n",
       "      <td>2</td>\n",
       "      <td>3</td>\n",
       "      <td>0</td>\n",
       "      <td>8021</td>\n",
       "      <td>0</td>\n",
       "      <td>0</td>\n",
       "      <td>1</td>\n",
       "      <td>5</td>\n",
       "      <td>...</td>\n",
       "      <td>5.293305</td>\n",
       "      <td>14.106736</td>\n",
       "      <td>8.989818</td>\n",
       "      <td>89.560036</td>\n",
       "      <td>-0.010182</td>\n",
       "      <td>3</td>\n",
       "      <td>0.0</td>\n",
       "      <td>1</td>\n",
       "      <td>1</td>\n",
       "      <td>0</td>\n",
       "    </tr>\n",
       "    <tr>\n",
       "      <th>4</th>\n",
       "      <td>35</td>\n",
       "      <td>1</td>\n",
       "      <td>1</td>\n",
       "      <td>1</td>\n",
       "      <td>0</td>\n",
       "      <td>8251</td>\n",
       "      <td>1</td>\n",
       "      <td>0</td>\n",
       "      <td>1</td>\n",
       "      <td>5</td>\n",
       "      <td>...</td>\n",
       "      <td>4.941642</td>\n",
       "      <td>11.832160</td>\n",
       "      <td>9.018090</td>\n",
       "      <td>90.835015</td>\n",
       "      <td>0.018090</td>\n",
       "      <td>3</td>\n",
       "      <td>0.0</td>\n",
       "      <td>1</td>\n",
       "      <td>1</td>\n",
       "      <td>0</td>\n",
       "    </tr>\n",
       "  </tbody>\n",
       "</table>\n",
       "<p>5 rows × 27 columns</p>\n",
       "</div>"
      ],
      "text/plain": [
       "   age  job  marital  education  default  balance  housing  loan  contact  \\\n",
       "0   58    1        1          1        0    10163        1     0        1   \n",
       "1   44    2        2          2        0     8049        1     0        1   \n",
       "2   33    3        1          2        0     8022        1     1        1   \n",
       "3   33    4        2          3        0     8021        0     0        1   \n",
       "4   35    1        1          1        0     8251        1     0        1   \n",
       "\n",
       "   day  ...  duration_log  duration_sqrt  balance_log  balance_sqrt  \\\n",
       "0    5  ...      5.568345      16.186414     9.226509    100.811706   \n",
       "1    5  ...      5.023881      12.328828     8.993303     89.716219   \n",
       "2    5  ...      4.343805       8.774964     8.989943     89.565618   \n",
       "3    5  ...      5.293305      14.106736     8.989818     89.560036   \n",
       "4    5  ...      4.941642      11.832160     9.018090     90.835015   \n",
       "\n",
       "   balance_log_cut  age_bin  campaign_log  all_campaign  campaign_bin  \\\n",
       "0         0.226509        3           0.0             1             1   \n",
       "1        -0.006697        3           0.0             1             1   \n",
       "2        -0.010057        3           0.0             1             1   \n",
       "3        -0.010182        3           0.0             1             1   \n",
       "4         0.018090        3           0.0             1             1   \n",
       "\n",
       "   previous_bin  \n",
       "0             0  \n",
       "1             0  \n",
       "2             0  \n",
       "3             0  \n",
       "4             0  \n",
       "\n",
       "[5 rows x 27 columns]"
      ]
     },
     "execution_count": 4,
     "metadata": {},
     "output_type": "execute_result"
    }
   ],
   "source": [
    "#df_all = read_csv(ALL)\n",
    "#train_df_,test_df_ = df_split(df_all)\n",
    "df_train.head()"
   ]
  },
  {
   "cell_type": "markdown",
   "id": "collaborative-transfer",
   "metadata": {},
   "source": [
    "## データの分割"
   ]
  },
  {
   "cell_type": "code",
   "execution_count": 19,
   "id": "adequate-graham",
   "metadata": {},
   "outputs": [
    {
     "data": {
      "text/plain": [
       "array([[1.],\n",
       "       [1.],\n",
       "       [0.],\n",
       "       ...,\n",
       "       [0.],\n",
       "       [1.],\n",
       "       [0.]])"
      ]
     },
     "execution_count": 19,
     "metadata": {},
     "output_type": "execute_result"
    }
   ],
   "source": [
    "from  sklearn.model_selection  import train_test_split\n",
    "#using = [\"age\", \"job\", \"marital\", \"education\", \"default\", \"balance_log_cut\", \"housing\", \"loan\",\"contact\",  \"duration_log\", \"campaign_bin\", \"pdays\", \"previous_bin\", \"poutcome\", \"month_day\", \"is_job_kesson\",\"is_education_kesson\",\"is_poutcome_kesson\",\"is_contact_kesson\" ]\n",
    "using = ['duration_log','month_day','balance_log_cut','age','poutcome','job','pdays','campaign_bin','housing','education','marital']\n",
    "y = df_train[target].values\n",
    "X = df_train[using].values\n",
    "X_train, X_test, y_train, y_test = train_test_split(X, y, test_size=0.3, random_state=1234)\n",
    "y"
   ]
  },
  {
   "cell_type": "markdown",
   "id": "metallic-brooklyn",
   "metadata": {},
   "source": [
    "# モデル"
   ]
  },
  {
   "cell_type": "code",
   "execution_count": 20,
   "id": "devoted-preview",
   "metadata": {},
   "outputs": [],
   "source": [
    "SEED = 10\n",
    "# 必要なもののインポート\n",
    "## 予測モデル\n",
    "from sklearn.ensemble import RandomForestClassifier\n",
    "import lightgbm as lgb\n"
   ]
  },
  {
   "cell_type": "markdown",
   "id": "indian-trunk",
   "metadata": {},
   "source": [
    "## base line with RFC　（0.９３２）"
   ]
  },
  {
   "cell_type": "code",
   "execution_count": 21,
   "id": "premium-brazilian",
   "metadata": {},
   "outputs": [
    {
     "name": "stderr",
     "output_type": "stream",
     "text": [
      "<ipython-input-21-e598faf66ab5>:2: DataConversionWarning: A column-vector y was passed when a 1d array was expected. Please change the shape of y to (n_samples,), for example using ravel().\n",
      "  rf.fit(X,y)\n"
     ]
    },
    {
     "data": {
      "text/plain": [
       "RandomForestClassifier()"
      ]
     },
     "execution_count": 21,
     "metadata": {},
     "output_type": "execute_result"
    }
   ],
   "source": [
    "rf = RandomForestClassifier()\n",
    "rf.fit(X,y)"
   ]
  },
  {
   "cell_type": "code",
   "execution_count": 22,
   "id": "desirable-detail",
   "metadata": {},
   "outputs": [],
   "source": [
    "prd = rf.predict_proba(df_test[using])\n",
    "prd_df = pd.DataFrame(prd)\n",
    "df_prd = prd_df.iloc[:, [1]]"
   ]
  },
  {
   "cell_type": "code",
   "execution_count": 23,
   "id": "equal-gateway",
   "metadata": {},
   "outputs": [
    {
     "name": "stdout",
     "output_type": "stream",
     "text": [
      "../submit/08161932_submit.csv\n",
      "save completed\n"
     ]
    }
   ],
   "source": [
    "to_submit_csv(df_prd)"
   ]
  },
  {
   "cell_type": "code",
   "execution_count": 88,
   "id": "frank-catalyst",
   "metadata": {},
   "outputs": [
    {
     "data": {
      "text/html": [
       "<div>\n",
       "<style scoped>\n",
       "    .dataframe tbody tr th:only-of-type {\n",
       "        vertical-align: middle;\n",
       "    }\n",
       "\n",
       "    .dataframe tbody tr th {\n",
       "        vertical-align: top;\n",
       "    }\n",
       "\n",
       "    .dataframe thead th {\n",
       "        text-align: right;\n",
       "    }\n",
       "</style>\n",
       "<table border=\"1\" class=\"dataframe\">\n",
       "  <thead>\n",
       "    <tr style=\"text-align: right;\">\n",
       "      <th></th>\n",
       "      <th>1</th>\n",
       "    </tr>\n",
       "  </thead>\n",
       "  <tbody>\n",
       "    <tr>\n",
       "      <th>0</th>\n",
       "      <td>0.02</td>\n",
       "    </tr>\n",
       "    <tr>\n",
       "      <th>1</th>\n",
       "      <td>0.00</td>\n",
       "    </tr>\n",
       "    <tr>\n",
       "      <th>2</th>\n",
       "      <td>0.00</td>\n",
       "    </tr>\n",
       "    <tr>\n",
       "      <th>3</th>\n",
       "      <td>0.00</td>\n",
       "    </tr>\n",
       "    <tr>\n",
       "      <th>4</th>\n",
       "      <td>0.01</td>\n",
       "    </tr>\n",
       "    <tr>\n",
       "      <th>...</th>\n",
       "      <td>...</td>\n",
       "    </tr>\n",
       "    <tr>\n",
       "      <th>4995</th>\n",
       "      <td>0.55</td>\n",
       "    </tr>\n",
       "    <tr>\n",
       "      <th>4996</th>\n",
       "      <td>0.65</td>\n",
       "    </tr>\n",
       "    <tr>\n",
       "      <th>4997</th>\n",
       "      <td>0.15</td>\n",
       "    </tr>\n",
       "    <tr>\n",
       "      <th>4998</th>\n",
       "      <td>0.69</td>\n",
       "    </tr>\n",
       "    <tr>\n",
       "      <th>4999</th>\n",
       "      <td>0.19</td>\n",
       "    </tr>\n",
       "  </tbody>\n",
       "</table>\n",
       "<p>5000 rows × 1 columns</p>\n",
       "</div>"
      ],
      "text/plain": [
       "         1\n",
       "0     0.02\n",
       "1     0.00\n",
       "2     0.00\n",
       "3     0.00\n",
       "4     0.01\n",
       "...    ...\n",
       "4995  0.55\n",
       "4996  0.65\n",
       "4997  0.15\n",
       "4998  0.69\n",
       "4999  0.19\n",
       "\n",
       "[5000 rows x 1 columns]"
      ]
     },
     "execution_count": 88,
     "metadata": {},
     "output_type": "execute_result"
    }
   ],
   "source": [
    "prd_df.iloc[:, [1]]\n",
    "#prd_df.iloc(:,[1])"
   ]
  },
  {
   "cell_type": "code",
   "execution_count": 18,
   "id": "dietary-application",
   "metadata": {},
   "outputs": [
    {
     "name": "stdout",
     "output_type": "stream",
     "text": [
      "Feature Importances:\n",
      "duration_log        :0.296\n",
      "month_day           :0.153\n",
      "balance_log_cut     :0.114\n",
      "age                 :0.107\n",
      "poutcome            :0.0621\n",
      "job                 :0.0511\n",
      "pdays               :0.0437\n",
      "campaign_bin        :0.0378\n",
      "housing             :0.0249\n",
      "education           :0.022\n",
      "marital             :0.0206\n",
      "previous_bin        :0.0196\n",
      "is_contact_kesson   :0.0133\n",
      "loan                :0.00935\n",
      "is_poutcome_kesson  :0.00842\n",
      "contact             :0.00804\n",
      "is_education_kesson :0.00588\n",
      "default             :0.0019\n",
      "is_job_kesson       :0.00146\n",
      "top10\n",
      "'duration_log','month_day','balance_log_cut','age','poutcome','job','pdays','campaign_bin','housing','education','marital',"
     ]
    }
   ],
   "source": [
    "from pprint import pprint\n",
    "fti = rf.feature_importances_ \n",
    "feature_list = list(zip(using, fti))\n",
    "feature_list.sort(key=lambda x: x[1], reverse = True)\n",
    "max_len_feature = max(map( lambda s: len(s), using))\n",
    "print('Feature Importances:')\n",
    "#pprint(feature_list)\n",
    "for tp in feature_list:\n",
    "    print(\"{:{}}:{:.3}\".format(tp[0],max_len_feature+1, tp[1]))\n",
    "print(\"top10\")\n",
    "for s in feature_list[0:11]:\n",
    "    print(f\"'{s[0]}',\",end = '')"
   ]
  },
  {
   "cell_type": "markdown",
   "id": "adjustable-marina",
   "metadata": {},
   "source": [
    "## base line with LGBM（0.938）"
   ]
  },
  {
   "cell_type": "code",
   "execution_count": 109,
   "id": "minus-reality",
   "metadata": {},
   "outputs": [],
   "source": [
    "params = {\n",
    "    # 二値分類問題\n",
    "    'objective': 'binary',\n",
    "    # AUC の最大化を目指す\n",
    "    'metric': 'auc',\n",
    "    # Fatal の場合出力\n",
    "    'verbosity': -1,\n",
    "    \n",
    "}\n",
    "lgb_train = lgb.Dataset(X, y)"
   ]
  },
  {
   "cell_type": "code",
   "execution_count": 113,
   "id": "otherwise-texas",
   "metadata": {},
   "outputs": [],
   "source": [
    "model = lgb.train(params, lgb_train,\n",
    "                  verbose_eval=50,  # 50イテレーション毎に学習結果出力\n",
    "                  num_boost_round=100,  # 最大イテレーション回数指定\n",
    "                 )"
   ]
  },
  {
   "cell_type": "code",
   "execution_count": 114,
   "id": "entertaining-malpractice",
   "metadata": {},
   "outputs": [],
   "source": [
    "y_pred_lgb = model.predict(df_test[using])"
   ]
  },
  {
   "cell_type": "code",
   "execution_count": 115,
   "id": "exclusive-cornell",
   "metadata": {},
   "outputs": [
    {
     "name": "stdout",
     "output_type": "stream",
     "text": [
      "../submit/8161049_submit.csv\n",
      "save completed\n"
     ]
    }
   ],
   "source": [
    "prd_df = pd.DataFrame(y_pred_lgb)\n",
    "#df_prd = prd_df.iloc[:, [1]]\n",
    "to_submit_csv(prd_df)"
   ]
  },
  {
   "cell_type": "code",
   "execution_count": 116,
   "id": "danish-builder",
   "metadata": {},
   "outputs": [],
   "source": [
    "df_prd = prd_df.iloc[:, [0]]\n",
    "boo = np.squeeze(np.array(df_prd))\n",
    "\n",
    "hoo = np.add(boo, y_pred_lgb)/2"
   ]
  },
  {
   "cell_type": "code",
   "execution_count": 117,
   "id": "ancient-dietary",
   "metadata": {},
   "outputs": [
    {
     "name": "stdout",
     "output_type": "stream",
     "text": [
      "../submit/8161049_submit.csv\n",
      "save completed\n"
     ]
    }
   ],
   "source": [
    "to_submit_csv(pd.DataFrame(hoo))"
   ]
  },
  {
   "cell_type": "code",
   "execution_count": null,
   "id": "intensive-yugoslavia",
   "metadata": {},
   "outputs": [],
   "source": []
  }
 ],
 "metadata": {
  "kernelspec": {
   "display_name": "Python 3",
   "language": "python",
   "name": "python3"
  },
  "language_info": {
   "codemirror_mode": {
    "name": "ipython",
    "version": 3
   },
   "file_extension": ".py",
   "mimetype": "text/x-python",
   "name": "python",
   "nbconvert_exporter": "python",
   "pygments_lexer": "ipython3",
   "version": "3.8.7"
  }
 },
 "nbformat": 4,
 "nbformat_minor": 5
}
